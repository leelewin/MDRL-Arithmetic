{
 "metadata": {
  "language_info": {
   "codemirror_mode": {
    "name": "ipython",
    "version": 3
   },
   "file_extension": ".py",
   "mimetype": "text/x-python",
   "name": "python",
   "nbconvert_exporter": "python",
   "pygments_lexer": "ipython3",
   "version": "3.7.9-final"
  },
  "orig_nbformat": 2,
  "kernelspec": {
   "name": "python3",
   "display_name": "Python 3.7.9 64-bit ('pytorch': conda)",
   "metadata": {
    "interpreter": {
     "hash": "59ebbe19d76a231ee7b0a80e6dbc85f36cb9c89c80459f14ece57d51f2c50a9b"
    }
   }
  }
 },
 "nbformat": 4,
 "nbformat_minor": 2,
 "cells": [
  {
   "cell_type": "code",
   "execution_count": 1,
   "metadata": {},
   "outputs": [
    {
     "output_type": "stream",
     "name": "stdout",
     "text": [
      "torch.int64 torch.float32 torch.bool\n"
     ]
    }
   ],
   "source": [
    "import torch\n",
    "import numpy as np\n",
    "import torch.nn.functional as F\n",
    "from torchkeras import Model, summary\n",
    "#自动类型推导\n",
    "a = torch.tensor(1)\n",
    "b = torch.tensor(1.00)\n",
    "c = torch.tensor(True)\n",
    "\n",
    "print(a.dtype, b.dtype, c.dtype)\n",
    "#可以看出分别的默认数据类型"
   ]
  },
  {
   "cell_type": "code",
   "execution_count": 2,
   "metadata": {},
   "outputs": [
    {
     "output_type": "stream",
     "name": "stdout",
     "text": [
      "torch.int32 torch.float64\n"
     ]
    }
   ],
   "source": [
    "#指定数据类型\n",
    "a = torch.tensor(1, dtype=torch.int32)\n",
    "b = torch.tensor(1.0, dtype=torch.float64)\n",
    "print(a.dtype, b.dtype)"
   ]
  },
  {
   "cell_type": "code",
   "execution_count": 20,
   "metadata": {},
   "outputs": [
    {
     "output_type": "stream",
     "name": "stdout",
     "text": [
      "tensor([1, 2, 3], dtype=torch.int32) torch.int32\ntensor([1.2000]) torch.float32\ntensor([ True, False,  True]) torch.bool\n"
     ]
    }
   ],
   "source": [
    "#使用特定类型构造函数   要用序列的形式\n",
    "a = torch.IntTensor([1, 2, 3])\n",
    "print(a, a.dtype)\n",
    "b = torch.FloatTensor([1.2])\n",
    "print(b, b.dtype)\n",
    "c = torch.BoolTensor([1, 0, 1])\n",
    "print(c, c.dtype)"
   ]
  },
  {
   "cell_type": "code",
   "execution_count": 22,
   "metadata": {},
   "outputs": [
    {
     "output_type": "stream",
     "name": "stdout",
     "text": [
      "tensor(1) torch.int64\ntensor(1.) torch.float32\ntensor(1., dtype=torch.float64) torch.float64\ntensor([1., 2., 3.], dtype=torch.float64) torch.float64\n"
     ]
    }
   ],
   "source": [
    "#不同类型进行转换\n",
    "a = torch.tensor(1)\n",
    "print(a, a.dtype)\n",
    "b = a.float()         #使用float方法\n",
    "print(b, b.dtype)\n",
    "c = b.type(torch.float64)   #使用type方法\n",
    "print(c, c.dtype)\n",
    "d = torch.tensor([1, 2, 3]).type_as(c)#使用type_as方法转换为某个tensor同类型\n",
    "print(d, d.dtype)"
   ]
  },
  {
   "source": [
    "----"
   ],
   "cell_type": "markdown",
   "metadata": {}
  },
  {
   "cell_type": "code",
   "execution_count": 34,
   "metadata": {},
   "outputs": [
    {
     "output_type": "stream",
     "name": "stdout",
     "text": [
      "tensor([0., 0., 0.], dtype=torch.float64)\n-------------\n[1. 1. 1.]\ntensor([1., 1., 1.], dtype=torch.float64)\ntensor([0., 0., 0.])\n"
     ]
    }
   ],
   "source": [
    "#torch.from_numpy() 从numpy数组得到tensor   不copy数据（一个改变另一个也改变）\n",
    "arr = np.zeros(3)\n",
    "tensor = torch.from_numpy(arr) #float转化为float32\n",
    "\n",
    "print(tensor)\n",
    "print(\"-------------\")\n",
    "#直接tensor也可以啊  但是它是copy数据的（一个改变另一个不变）\n",
    "#Initial data for the tensor. Can be a list, tuple, NumPy ndarray, scalar, and other types.\n",
    "\n",
    "ls = torch.tensor(arr, dtype=torch.float32)\n",
    "\n",
    "np.add(arr, 1, out=arr)\n",
    "print(arr)\n",
    "print(tensor)\n",
    "print(ls)\n"
   ]
  },
  {
   "cell_type": "code",
   "execution_count": 38,
   "metadata": {},
   "outputs": [
    {
     "output_type": "stream",
     "name": "stdout",
     "text": [
      "tensor([0., 0., 0.])\n[0. 0. 0.]\n[0. 0. 0.]\n[0. 0. 0.]\n"
     ]
    }
   ],
   "source": [
    "#numpy方法从tensor得到numpy数组\n",
    "#二者共享内存\n",
    "tensor = torch.zeros(3)\n",
    "num = tensor.numpy()\n",
    "\n",
    "print(tensor)\n",
    "print(num)\n",
    "\n",
    "#通过clone（）来拷贝张量， 中断这种关系\n",
    "num1 = tensor.clone().numpy()\n",
    "num2 = tensor.data.numpy()  #也可以用tensor.data.numpy()\n",
    "\n",
    "print(num1)\n",
    "print(num2)"
   ]
  },
  {
   "cell_type": "code",
   "execution_count": 41,
   "metadata": {},
   "outputs": [
    {
     "output_type": "stream",
     "name": "stdout",
     "text": [
      "1\n[[1.0, 1.0, 1.0, 1.0], [1.0, 1.0, 1.0, 1.0], [1.0, 1.0, 1.0, 1.0]]\n"
     ]
    }
   ],
   "source": [
    "#item方法和tolist方法将张量转化为Python数值和数值list\n",
    "scal = torch.tensor(1)\n",
    "s = scal.item()\n",
    "print(s)\n",
    "\n",
    "metrix = torch.ones((3,4))\n",
    "li = metrix.tolist()\n",
    "print(li)\n",
    "\n"
   ]
  },
  {
   "cell_type": "code",
   "execution_count": 8,
   "metadata": {},
   "outputs": [
    {
     "output_type": "stream",
     "name": "stdout",
     "text": [
      "tensor(4.3000)\nNone\n"
     ]
    }
   ],
   "source": [
    "#求导数\n",
    "#y =a x ** 2 +bx + c\n",
    "x = torch.tensor(1.0, requires_grad=True)\n",
    "# x = torch.tensor(1.0)\n",
    "a = torch.tensor(2.0)\n",
    "b = torch.tensor(0.3)\n",
    "c = torch.tensor(3.0)\n",
    "y = a * torch.pow(x, 2) + b * x + c\n",
    "\n",
    "y.backward()\n",
    "print(x.grad)\n",
    "print(a.grad)"
   ]
  },
  {
   "cell_type": "code",
   "execution_count": 11,
   "metadata": {},
   "outputs": [
    {
     "output_type": "stream",
     "name": "stdout",
     "text": [
      "None\ntensor([[6.5866]])\n"
     ]
    }
   ],
   "source": [
    "# w = torch.tensor([[3.0, 1.0]], requires_grad=True)\n",
    "w = torch.Tensor([[3.0, 1.0]])\n",
    "b = torch.tensor([[3.0]], requires_grad=True)\n",
    "x = torch.randn(10, 2)\n",
    "y = torch.randn(10, 1)\n",
    "y1 = x@w.t() + b\n",
    "y_ = F.relu(y1)\n",
    "loss = torch.mean(torch.pow(y-y_, 2))\n",
    "\n",
    "loss.backward()\n",
    "optimizer = torch.optim.SGD(params=[w, b],lr = 0.01)\n",
    "\n",
    "print(w.grad)\n",
    "print(b.grad)\n",
    "# print(y_.grad)\n",
    "# print(y1.grad)\n",
    "# print(\"y1 data\", y1.data)\n",
    "# print(w.data)\n",
    "# optimizer.step()\n",
    "# print(w.grad)\n",
    "# print(b.grad)\n",
    "# print(w.data)\n",
    "# print(b.data)\n",
    "# print(\"y1 data\", y1.data)\n",
    "# optimizer.zero_grad()\n",
    "# print(w.grad)\n",
    "# print(b.grad)\n",
    "# print(w.data)\n",
    "# print(b.data)\n",
    "# print(\"y1 data\", y1.data)\n"
   ]
  },
  {
   "cell_type": "code",
   "execution_count": 18,
   "metadata": {},
   "outputs": [
    {
     "output_type": "stream",
     "name": "stdout",
     "text": [
      "Net(\n  (fc1): Linear(in_features=3, out_features=64, bias=True)\n  (fc2): Linear(in_features=64, out_features=1, bias=True)\n)\n----------------------------------------------------------------\n        Layer (type)               Output Shape         Param #\n================================================================\n            Linear-1                [-1, 3, 64]             256\n            Linear-2                 [-1, 3, 1]              65\n================================================================\nTotal params: 321\nTrainable params: 321\nNon-trainable params: 0\n----------------------------------------------------------------\nInput size (MB): 0.000034\nForward/backward pass size (MB): 0.001488\nParams size (MB): 0.001225\nEstimated Total Size (MB): 0.002747\n----------------------------------------------------------------\n"
     ]
    }
   ],
   "source": [
    "class Net(torch.nn.Module):\n",
    "    def __init__(self, n_inputs, n_outputs):\n",
    "        super(Net, self).__init__()\n",
    "        self.fc1 = torch.nn.Linear(n_inputs, 64)\n",
    "        self.fc2 = torch.nn.Linear(64, n_outputs)\n",
    "        self.logstd = torch.nn.Parameter(torch.zeros(1, n_outputs))\n",
    "\n",
    "        self.norm_layer(self.fc1)\n",
    "        self.norm_layer(self.fc2)\n",
    "\n",
    "    def forward(self, x):\n",
    "        x = torch.tanh(self.fc1(x))\n",
    "        x = self.fc2(x)\n",
    "        y = self.logstd.expand_as(x)\n",
    "        return x, y\n",
    "\n",
    "    @staticmethod\n",
    "    def norm_layer(layer, std=1.0, bias_std=0.0):\n",
    "        torch.nn.init.orthogonal_(layer.weight, std)\n",
    "        torch.nn.init.constant_(layer.bias, bias_std)\n",
    "\n",
    "\n",
    "\n",
    "net = Net(3, 1)\n",
    "# print(net.fc1.weight)\n",
    "# print(net.fc1.bias)\n",
    "print(net)\n",
    "summary(net, input_shape=(3, 3))"
   ]
  },
  {
   "cell_type": "code",
   "execution_count": 15,
   "metadata": {},
   "outputs": [
    {
     "output_type": "stream",
     "name": "stdout",
     "text": [
      "1\n"
     ]
    },
    {
     "output_type": "execute_result",
     "data": {
      "text/plain": [
       "tensor([1, 2, 3])"
      ]
     },
     "metadata": {},
     "execution_count": 15
    }
   ],
   "source": [
    "#torch.squeeze  和 torch.unsqueeze\n",
    "#\n",
    "m = np.array([1, 2, 3])\n",
    "n = torch.from_numpy(m)\n",
    "print(n.dim())\n",
    "w = n.unsqueeze(1)\n",
    "w.squeeze()"
   ]
  },
  {
   "cell_type": "code",
   "execution_count": 20,
   "metadata": {},
   "outputs": [
    {
     "output_type": "execute_result",
     "data": {
      "text/plain": [
       "1"
      ]
     },
     "metadata": {},
     "execution_count": 20
    }
   ],
   "source": [
    "a = torch.tensor([1, 2, 3])\n",
    "b = a.unsqueeze(0)\n",
    "c = b.data.numpy()[0]\n",
    "c[0]"
   ]
  },
  {
   "cell_type": "code",
   "execution_count": 12,
   "metadata": {},
   "outputs": [
    {
     "output_type": "stream",
     "name": "stdout",
     "text": [
      "<class 'torch.nn.parameter.Parameter'>\n<class 'torch.Tensor'>\n"
     ]
    }
   ],
   "source": [
    "a = torch.Tensor(24)\n",
    "b = torch.nn.parameter.Parameter(torch.zeros((1, 5)))\n",
    "c = b.expand_as(torch.zeros(1, 5))\n",
    "print(type(b))\n",
    "print(type(c))\n",
    "# print(torch.zeros((1, 5)))\n",
    "# print(torch.zeros(1, 5))\n",
    "# torch.zeros(1, 5)"
   ]
  },
  {
   "cell_type": "code",
   "execution_count": 15,
   "metadata": {},
   "outputs": [
    {
     "output_type": "execute_result",
     "data": {
      "text/plain": [
       "torch.Size([3, 3])"
      ]
     },
     "metadata": {},
     "execution_count": 15
    }
   ],
   "source": [
    "a = torch.tensor([[1, 2, 3], [2, 3, 4], [4, 5, 6]])\n",
    "a.size()"
   ]
  },
  {
   "cell_type": "code",
   "execution_count": 21,
   "metadata": {},
   "outputs": [
    {
     "output_type": "execute_result",
     "data": {
      "text/plain": [
       "tensor([[1, 2, 3],\n",
       "        [2, 4, 6],\n",
       "        [3, 6, 9]])"
      ]
     },
     "metadata": {},
     "execution_count": 21
    }
   ],
   "source": [
    "a = torch.tensor([[1, 2, 3]])\n",
    "b = torch.tensor([[1, 2, 3]]).view(3, 1)\n",
    "torch.mul(a, b)"
   ]
  },
  {
   "cell_type": "code",
   "execution_count": null,
   "metadata": {},
   "outputs": [],
   "source": []
  }
 ]
}