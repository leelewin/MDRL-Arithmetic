{
 "cells": [
  {
   "cell_type": "code",
   "execution_count": 19,
   "source": [
    "from sklearn.linear_model import LogisticRegression as LR\n",
    "from sklearn.datasets import load_breast_cancer\n",
    "from sklearn.model_selection import train_test_split\n",
    "from sklearn.metrics import accuracy_score\n",
    "import numpy as np\n",
    "import matplotlib.pyplot as plt"
   ],
   "outputs": [],
   "metadata": {}
  },
  {
   "cell_type": "code",
   "execution_count": 20,
   "source": [
    "#观察不同正则化项的区别\n",
    "data = load_breast_cancer()\n",
    "X = data.data\n",
    "y = data.target"
   ],
   "outputs": [],
   "metadata": {}
  },
  {
   "cell_type": "code",
   "execution_count": 21,
   "source": [
    "X.shape\n",
    "y.shape"
   ],
   "outputs": [
    {
     "output_type": "execute_result",
     "data": {
      "text/plain": [
       "(569,)"
      ]
     },
     "metadata": {},
     "execution_count": 21
    }
   ],
   "metadata": {}
  },
  {
   "cell_type": "code",
   "execution_count": 22,
   "source": [
    "l1 = LR(penalty='l1', C=0.5, solver='liblinear', max_iter=1000)\n",
    "l2 = LR(penalty='l2', C=0.5, solver='liblinear', max_iter=1000)\n",
    "\n",
    "l1.fit(X, y)\n",
    "l2.fit(X, y)\n"
   ],
   "outputs": [
    {
     "output_type": "execute_result",
     "data": {
      "text/plain": [
       "LogisticRegression(C=0.5, max_iter=1000, solver='liblinear')"
      ]
     },
     "metadata": {},
     "execution_count": 22
    }
   ],
   "metadata": {}
  },
  {
   "cell_type": "code",
   "execution_count": 23,
   "source": [
    "l1.coef_"
   ],
   "outputs": [
    {
     "output_type": "execute_result",
     "data": {
      "text/plain": [
       "array([[ 4.00610087,  0.0320813 , -0.1378638 , -0.01623609,  0.        ,\n",
       "         0.        ,  0.        ,  0.        ,  0.        ,  0.        ,\n",
       "         0.        ,  0.50475949,  0.        , -0.07126699,  0.        ,\n",
       "         0.        ,  0.        ,  0.        ,  0.        ,  0.        ,\n",
       "         0.        , -0.24594582, -0.12867061, -0.01439864,  0.        ,\n",
       "         0.        , -2.03605971,  0.        ,  0.        ,  0.        ]])"
      ]
     },
     "metadata": {},
     "execution_count": 23
    }
   ],
   "metadata": {}
  },
  {
   "cell_type": "code",
   "execution_count": 24,
   "source": [
    "l2.coef_"
   ],
   "outputs": [
    {
     "output_type": "execute_result",
     "data": {
      "text/plain": [
       "array([[ 1.61520501e+00,  1.03165052e-01,  4.89949805e-02,\n",
       "        -4.54506240e-03, -9.48008257e-02, -3.01421093e-01,\n",
       "        -4.56859957e-01, -2.23258616e-01, -1.36553746e-01,\n",
       "        -1.93906450e-02,  1.51864035e-02,  8.84898752e-01,\n",
       "         1.16165541e-01, -9.44763174e-02, -9.89655585e-03,\n",
       "        -2.29726134e-02, -5.65958341e-02, -2.71050955e-02,\n",
       "        -2.78527986e-02,  3.23035311e-04,  1.25588950e+00,\n",
       "        -3.02228839e-01, -1.72470649e-01, -2.21057137e-02,\n",
       "        -1.74443696e-01, -8.78236006e-01, -1.16396034e+00,\n",
       "        -4.29422377e-01, -4.23200361e-01, -8.69294106e-02]])"
      ]
     },
     "metadata": {},
     "execution_count": 24
    }
   ],
   "metadata": {}
  },
  {
   "cell_type": "code",
   "execution_count": 25,
   "source": [
    "#划分训练集和测试集\n",
    "X_trian, X_test, y_trian, y_test = train_test_split(X, y, test_size=0.3)"
   ],
   "outputs": [],
   "metadata": {}
  },
  {
   "cell_type": "code",
   "execution_count": 28,
   "source": [
    "#不同的C值对训练集和测试集精度的影响\n",
    "l1_trian = []\n",
    "l2 = []\n",
    "l1_test = []\n",
    "\n",
    "for i in np.linspace(0.05, 2, num=20):\n",
    "\tl1 = LR(penalty='l1', C=i, solver='liblinear', max_iter=1000)\n",
    "\tl1.fit(X_trian, y_trian)\n",
    "\n",
    "\tl1_trian.append(accuracy_score(y_true=y_trian, y_pred=l1.predict(X_trian)))\n",
    "\tl1_test.append(accuracy_score(y_true=y_test, y_pred=l1.predict(X_test)))\n",
    "\n",
    "#画学习曲线\n",
    "graph = [l1_trian, l1_test]\n",
    "color = ['green', 'black']\n",
    "plt.figure()\n",
    "for i in range(2):\n",
    "\tplt.plot(np.linspace(0.05, 2, num=20), graph[i], color[i])\n",
    "plt.show()\n"
   ],
   "outputs": [
    {
     "output_type": "display_data",
     "data": {
      "text/plain": [
       "<Figure size 432x288 with 1 Axes>"
      ],
      "image/png": "[encoded data removed]"
     },
     "metadata": {
      "needs_background": "light"
     }
    }
   ],
   "metadata": {}
  },
  {
   "cell_type": "code",
   "execution_count": null,
   "source": [],
   "outputs": [],
   "metadata": {}
  },
  {
   "cell_type": "code",
   "execution_count": null,
   "source": [],
   "outputs": [],
   "metadata": {}
  }
 ],
 "metadata": {
  "orig_nbformat": 4,
  "language_info": {
   "name": "python",
   "version": "3.7.9",
   "mimetype": "text/x-python",
   "codemirror_mode": {
    "name": "ipython",
    "version": 3
   },
   "pygments_lexer": "ipython3",
   "nbconvert_exporter": "python",
   "file_extension": ".py"
  },
  "kernelspec": {
   "name": "python3",
   "display_name": "Python 3.7.9 64-bit ('pytorch': conda)"
  },
  "interpreter": {
   "hash": "59ebbe19d76a231ee7b0a80e6dbc85f36cb9c89c80459f14ece57d51f2c50a9b"
  }
 },
 "nbformat": 4,
 "nbformat_minor": 2
}